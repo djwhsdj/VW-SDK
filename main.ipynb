{
 "cells": [
  {
   "cell_type": "markdown",
   "id": "guilty-halloween",
   "metadata": {},
   "source": [
    "## Import module"
   ]
  },
  {
   "cell_type": "code",
   "execution_count": 1,
   "id": "natural-baghdad",
   "metadata": {},
   "outputs": [
    {
     "name": "stdout",
     "output_type": "stream",
     "text": [
      "importing Jupyter notebook from utils.ipynb\n"
     ]
    }
   ],
   "source": [
    "import math"
   ]
  },
  {
   "cell_type": "markdown",
   "id": "waiting-feeling",
   "metadata": {},
   "source": [
    "## Example of the network"
   ]
  },
  {
   "cell_type": "code",
   "execution_count": 2,
   "id": "brave-gather",
   "metadata": {},
   "outputs": [
    {
     "data": {
      "text/plain": [
       "'\\nVGG13\\nVGG_image = [224, 224, 112, 112, 56, 56, 28, 28]\\nVGG_kernel = [3, 3, 3, 3, 3, 3, 3, 3, 3, 3]\\nVGG_channel = [3, 64, 64, 128, 128, 256, 256, 512, 512]\\nn_layers = [1, 1, 1, 1, 1, 1, 1, 1]\\n\\nimage = VGG_image\\nkernel = VGG_kernel\\nchannel = VGG_channel\\n'"
      ]
     },
     "execution_count": 2,
     "metadata": {},
     "output_type": "execute_result"
    }
   ],
   "source": [
    "\"\"\"\n",
    "VGG13\n",
    "VGG_image = [224, 224, 112, 112, 56, 56, 28, 28]\n",
    "VGG_kernel = [3, 3, 3, 3, 3, 3, 3, 3, 3, 3]\n",
    "VGG_channel = [3, 64, 64, 128, 128, 256, 256, 512, 512]\n",
    "n_layers = [1, 1, 1, 1, 1, 1, 1, 1]\n",
    "\n",
    "image = VGG_image\n",
    "kernel = VGG_kernel\n",
    "channel = VGG_channel\n",
    "\"\"\""
   ]
  },
  {
   "cell_type": "code",
   "execution_count": 3,
   "id": "endless-remark",
   "metadata": {},
   "outputs": [],
   "source": [
    "\n",
    "\"\"\"\n",
    "Resnet18\n",
    "\"\"\"\n",
    "Res_image = [112, 56, 28, 28, 14, 14, 7, 7]\n",
    "Res_kernel = [7, 3, 3, 3, 3, 3, 3, 3]\n",
    "Res_channel = [3, 64, 64, 128, 128, 256, 256, 512, 512]\n",
    "n_layers = [1, 4, 2, 2, 2, 2, 2, 2]\n",
    "\n",
    "image = Res_image\n",
    "kernel = Res_kernel\n",
    "channel = Res_channel"
   ]
  },
  {
   "cell_type": "markdown",
   "id": "prime-converter",
   "metadata": {},
   "source": [
    "## Input the image size"
   ]
  },
  {
   "cell_type": "code",
   "execution_count": 1,
   "id": "stuffed-transcription",
   "metadata": {},
   "outputs": [
    {
     "name": "stdin",
     "output_type": "stream",
     "text": [
      " 112 56 28 28 14 14 7 7\n"
     ]
    }
   ],
   "source": [
    "image = list(map(int, input().split()))"
   ]
  },
  {
   "cell_type": "markdown",
   "id": "phantom-executive",
   "metadata": {},
   "source": [
    "## Input the kernel size"
   ]
  },
  {
   "cell_type": "code",
   "execution_count": 2,
   "id": "published-farming",
   "metadata": {},
   "outputs": [
    {
     "name": "stdin",
     "output_type": "stream",
     "text": [
      " 7 3 3 3 3 3 3 3\n"
     ]
    }
   ],
   "source": [
    "kernel = list(map(int, input().split()))"
   ]
  },
  {
   "cell_type": "markdown",
   "id": "christian-physiology",
   "metadata": {},
   "source": [
    "## Input the channel ( have to include the channel of first layer 3 )"
   ]
  },
  {
   "cell_type": "code",
   "execution_count": 3,
   "id": "generous-ghana",
   "metadata": {},
   "outputs": [
    {
     "name": "stdin",
     "output_type": "stream",
     "text": [
      " 3 64 64 128 128 256 256 512 512\n"
     ]
    }
   ],
   "source": [
    "channel = list(map(int, input().split()))"
   ]
  },
  {
   "cell_type": "markdown",
   "id": "contrary-local",
   "metadata": {},
   "source": [
    "## The number of convolutional layers"
   ]
  },
  {
   "cell_type": "code",
   "execution_count": 7,
   "id": "pressed-short",
   "metadata": {},
   "outputs": [],
   "source": [
    "# n_layers = list(map(int, input().split()))"
   ]
  },
  {
   "cell_type": "markdown",
   "id": "statutory-clause",
   "metadata": {},
   "source": [
    "## Input the array size"
   ]
  },
  {
   "cell_type": "code",
   "execution_count": 8,
   "id": "loaded-pittsburgh",
   "metadata": {},
   "outputs": [
    {
     "name": "stdin",
     "output_type": "stream",
     "text": [
      " 512 512\n"
     ]
    }
   ],
   "source": [
    "array = list(map(int, input().split()))\n",
    "# row ,col"
   ]
  },
  {
   "cell_type": "markdown",
   "id": "bronze-criticism",
   "metadata": {},
   "source": [
    "## Input the bit precision ( determines the number of utilized columns )"
   ]
  },
  {
   "cell_type": "code",
   "execution_count": 9,
   "id": "compound-acceptance",
   "metadata": {},
   "outputs": [
    {
     "name": "stdin",
     "output_type": "stream",
     "text": [
      " 1\n"
     ]
    }
   ],
   "source": [
    "bit_precision = int(input())"
   ]
  },
  {
   "cell_type": "markdown",
   "id": "informative-replica",
   "metadata": {},
   "source": [
    "## Functions"
   ]
  },
  {
   "cell_type": "code",
   "execution_count": 10,
   "id": "instant-heater",
   "metadata": {},
   "outputs": [],
   "source": [
    "def im2col (image_col, image_row, filter_col, filter_row, in_channel, out_channel, array_row, array_col, bit_precision) :\n",
    "\n",
    "    real_used_col = math.floor(array_col / bit_precision)\n",
    "    col_slide = image_col - filter_col + 1\n",
    "    row_slide = image_row - filter_row + 1\n",
    "    \n",
    "    col_cycle = math.ceil(out_channel/real_used_col)\n",
    "    row_cycle = math.ceil(filter_row*filter_col*in_channel/array_row)\n",
    "\n",
    "    total_cycle = col_slide * row_slide * row_cycle * col_cycle\n",
    "    \n",
    "    return total_cycle\n",
    "\n",
    "def SDK (image_col, image_row, filter_col, filter_row, in_channel, out_channel, \\\n",
    "                    array_row, array_col, bit_precision) :\n",
    "    \n",
    "    row_vector = filter_row * filter_col * in_channel\n",
    "    col_vector = out_channel\n",
    "    \n",
    "    used_row = math.ceil(row_vector/array_row)\n",
    "    used_col = math.ceil(col_vector/array_col)\n",
    "    \n",
    "    new_array_row = array_row * used_row\n",
    "    new_array_col = array_col * used_col\n",
    "\n",
    "    # initialize\n",
    "    cycle = []\n",
    "    w = []\n",
    "    w.append(filter_row*filter_col)\n",
    "    cycle.append(used_row*used_col*(image_row-filter_row+1)*(image_col-filter_col+1))\n",
    "    \n",
    "    i=0\n",
    "    while True :\n",
    "        i += 1\n",
    "        pw_row = filter_row + i - 1 \n",
    "        pw_col = filter_col + i - 1\n",
    "        pw = pw_row * pw_col\n",
    "        if pw*in_channel <= new_array_row and i * i * out_channel <= new_array_col :\n",
    "            parallel_window_row = math.floor((image_row - (filter_row + i) + 1)/i) + 1\n",
    "            parallel_window_col = math.floor((image_col - (filter_col + i) + 1)/i) + 1\n",
    "            \n",
    "            if parallel_window_row * parallel_window_row * used_row * used_col <= cycle[0] :\n",
    "                del cycle[0]\n",
    "                del w[0]\n",
    "                cycle.append(parallel_window_row * parallel_window_col * used_row * used_col)\n",
    "                w.append(pw)\n",
    "            \n",
    "        else :\n",
    "            break\n",
    "        \n",
    "    \n",
    "    return cycle, w\n",
    "\n",
    "    \n",
    "# ceil : up, floor : down\n",
    "def vw_sdk (image_col, image_row, filter_col, filter_row, in_channel, out_channel, \\\n",
    "                    array_row, array_col, bit_precision) :\n",
    "    real_used_col = math.floor(array_col / bit_precision)\n",
    "\n",
    "    i = 0 # initialize # overlap col\n",
    "    j = 1 # overlap row\n",
    "\n",
    "    reg_total_cycle = [] # initialize\n",
    "    reg_overlap_row = []\n",
    "    reg_overlap_col = []\n",
    "    reg_row_cycle = []\n",
    "    reg_col_cycle = []\n",
    "    reg_ICt = []\n",
    "    reg_OCt = []\n",
    "    \n",
    "    while True :\n",
    "        try :\n",
    "            i += 1\n",
    "            if (i + filter_col) > image_col : \n",
    "                i = 1\n",
    "                j += 1\n",
    "                if j + filter_row > image_row : \n",
    "                    break\n",
    "\n",
    "            # for parallel_window computing\n",
    "            reg_N_parallel_window_row = math.floor((image_row - (filter_row + i) + 1)/i) + 1\n",
    "            reg_N_parallel_window_col = math.floor((image_col - (filter_col + j) + 1)/j) + 1\n",
    "            \n",
    "            # for cycle computing\n",
    "            # Tiled IC\n",
    "            if in_channel == 3 :\n",
    "                ICt = math.floor(array_row /((filter_row + i - 1)*(filter_col + j - 1)))\n",
    "                if ICt > in_channel :\n",
    "                    ICt = 3\n",
    "                row_cycle = math.ceil(in_channel / ICt)\n",
    "            else :\n",
    "                ICt = math.floor(array_row /((filter_row + i - 1)*(filter_col + j - 1)))\n",
    "                row_cycle = math.ceil(in_channel / ICt)\n",
    "            \n",
    "            # Tiled OC\n",
    "            OCt =  math.floor(real_used_col / (i * j))\n",
    "            col_cycle = math.ceil(out_channel / OCt)\n",
    "    \n",
    "            reg_N_of_computing_cycle = reg_N_parallel_window_row * reg_N_parallel_window_col \\\n",
    "                                    * row_cycle * col_cycle\n",
    "            \n",
    "            if i == 1 : # initialize\n",
    "                reg_total_cycle.append(reg_N_of_computing_cycle)\n",
    "                reg_overlap_row.append(i)\n",
    "                reg_overlap_col.append(j)\n",
    "                reg_row_cycle.append(row_cycle)\n",
    "                reg_col_cycle.append(col_cycle)\n",
    "                reg_ICt.append(ICt)\n",
    "                reg_OCt.append(OCt)\n",
    "\n",
    "            if reg_total_cycle[0] > reg_N_of_computing_cycle :\n",
    "                del reg_total_cycle[0]\n",
    "                del reg_overlap_row[0]\n",
    "                del reg_overlap_col[0]\n",
    "                del reg_row_cycle[0]\n",
    "                del reg_col_cycle[0]\n",
    "                del reg_ICt[0]\n",
    "                del reg_OCt[0]\n",
    "\n",
    "                reg_total_cycle.append(reg_N_of_computing_cycle)\n",
    "                reg_overlap_row.append(i)\n",
    "                reg_overlap_col.append(j)\n",
    "                reg_row_cycle.append(row_cycle)\n",
    "                reg_col_cycle.append(col_cycle)\n",
    "                reg_ICt.append(ICt)\n",
    "                reg_OCt.append(OCt)\n",
    "\n",
    "    \n",
    "        except ZeroDivisionError :\n",
    "            continue\n",
    "\n",
    "    return reg_total_cycle[0], reg_overlap_col[0], reg_overlap_row[0], reg_row_cycle[0], reg_col_cycle[0], reg_ICt[0], reg_OCt[0] \n",
    "def network_information() :\n",
    "    print(\"=\"*50)\n",
    "    print( \" Array Size = {} x {}\".format(array[0], array[1]))\n",
    "    print( \" Bit precision = {}\".format(bit_precision))\n",
    "    print( \" Actual Array Size = {} x {}\".format(array[0], int(array[1]/bit_precision)))\n",
    "    print(\"-\"*30)\n",
    "    \n",
    "    print(\" NETWORK INFORMATION \")\n",
    "    print(\"-\"*30)\n",
    "    for i in range(len(image)) :\n",
    "        print(\" CONV LAYER \"+ str(i+1))\n",
    "        print(\"    Image   Size = {} x {}\".format(image[i], image[i]))\n",
    "        print(\"    Kernel  Size = {} x {}\".format(kernel[i], kernel[i]))\n",
    "        print(\"    Channel Size = {} x {}\".format(channel[i], channel[i+1]))\n",
    "    print(\"=\"*50)\n",
    "    \n",
    "def result () :\n",
    "    CC_im2col = []\n",
    "    \n",
    "    CC = []\n",
    "    SDK_height = []\n",
    "    SDK_width = []\n",
    "    AR_cycle = []\n",
    "    AC_cycle = []\n",
    "    IC_tiled = []\n",
    "    OC_tiled = []\n",
    "    \n",
    "    CC_SDK = []\n",
    "    PW_SDK = []\n",
    "    \n",
    "    for i in range(len(image)) :\n",
    "        T_im2col = im2col(image[i], image[i], kernel[i], kernel[i], channel[i], channel[i+1], array[0], array[1], bit_precision)\n",
    "        CC_im2col.append(T_im2col)\n",
    "\n",
    "        T_SDK, w = SDK(image[i], image[i], kernel[i], kernel[i], channel[i], channel[i+1], array[0], array[1], bit_precision)\n",
    "        CC_SDK.append(T_SDK[0])\n",
    "        PW_SDK.append(w[0])\n",
    "\n",
    "        T_cycle, SDK_h, SDK_w, ARC, ACC, tiled_IC, tiled_OC = vw_sdk(image[i], image[i], kernel[i], kernel[i], channel[i], channel[i+1], array[0], array[1], bit_precision)\n",
    "        CC.append(T_cycle)\n",
    "        SDK_height.append(SDK_h)\n",
    "        SDK_width.append(SDK_w)\n",
    "        AR_cycle.append(ARC)\n",
    "        AC_cycle.append(ACC)\n",
    "        IC_tiled.append(tiled_IC)\n",
    "        OC_tiled.append(tiled_OC)\n",
    "    \n",
    "#     total_im2col = 0\n",
    "#     total_SDK = 0\n",
    "#     total_VWSDK = 0\n",
    "    \n",
    "    print(\"=\"*50)\n",
    "    print(\" RESULTS of COMPUTING CYCLES\")\n",
    "    print(\"-\"*30)\n",
    "    for i in range(len(image)) :\n",
    "        print(\" CONV LAYER \"+ str(i+1))\n",
    "        print(\"    Im2col = {}\".format(CC_im2col[i]))\n",
    "        print(\"    SDK    = {}\".format(CC_SDK[i]))\n",
    "        print(\"      - shape of PW = {} x {} x {} x {}\".format(int(math.sqrt(PW_SDK[i])), int(math.sqrt(PW_SDK[i])), channel[i], channel[i+1]))\n",
    "        print(\"    VW-SDK = {}\".format(CC[i]))\n",
    "        print(\"      - Optimal shape of PW = {} x {} x {} x {}\".format(kernel[i] + SDK_width[i]-1, kernel[i] + SDK_height[i]-1, IC_tiled[i], OC_tiled[i]))\n",
    "        print(\"      - Reduction Compared to Im2col = {:.2f} %\".format((CC_im2col[i]-CC[i])/CC_im2col[i]*100))\n",
    "        print(\"      - Reduction Compared to SDK    = {:.2f} %\".format((CC_SDK[i]-CC[i])/CC_SDK[i]*100))    \n",
    "    print(\"=\"*50)"
   ]
  },
  {
   "cell_type": "markdown",
   "id": "rolled-action",
   "metadata": {},
   "source": [
    "## Results"
   ]
  },
  {
   "cell_type": "code",
   "execution_count": 11,
   "id": "piano-realtor",
   "metadata": {},
   "outputs": [
    {
     "name": "stdout",
     "output_type": "stream",
     "text": [
      "==================================================\n",
      " Array Size = 512 x 512\n",
      " Bit precision = 1\n",
      " Actual Array Size = 512 x 512\n",
      "------------------------------\n",
      " NETWORK INFORMATION \n",
      "------------------------------\n",
      " CONV LAYER 1\n",
      "    Image   Size = 112 x 112\n",
      "    Kernel  Size = 7 x 7\n",
      "    Channel Size = 3 x 64\n",
      " CONV LAYER 2\n",
      "    Image   Size = 56 x 56\n",
      "    Kernel  Size = 3 x 3\n",
      "    Channel Size = 64 x 64\n",
      " CONV LAYER 3\n",
      "    Image   Size = 28 x 28\n",
      "    Kernel  Size = 3 x 3\n",
      "    Channel Size = 64 x 128\n",
      " CONV LAYER 4\n",
      "    Image   Size = 28 x 28\n",
      "    Kernel  Size = 3 x 3\n",
      "    Channel Size = 128 x 128\n",
      " CONV LAYER 5\n",
      "    Image   Size = 14 x 14\n",
      "    Kernel  Size = 3 x 3\n",
      "    Channel Size = 128 x 256\n",
      " CONV LAYER 6\n",
      "    Image   Size = 14 x 14\n",
      "    Kernel  Size = 3 x 3\n",
      "    Channel Size = 256 x 256\n",
      " CONV LAYER 7\n",
      "    Image   Size = 7 x 7\n",
      "    Kernel  Size = 3 x 3\n",
      "    Channel Size = 256 x 512\n",
      " CONV LAYER 8\n",
      "    Image   Size = 7 x 7\n",
      "    Kernel  Size = 3 x 3\n",
      "    Channel Size = 512 x 512\n",
      "==================================================\n",
      "==================================================\n",
      " RESULTS of COMPUTING CYCLES\n",
      "------------------------------\n",
      " CONV LAYER 1\n",
      "    Im2col = 11236\n",
      "    SDK    = 2809\n",
      "      - shape of PW = 8 x 8 x 3 x 64\n",
      "    VW-SDK = 1272\n",
      "      - Optimal shape of PW = 22 x 7 x 3 x 32\n",
      "      - Reduction Compared to Im2col = 88.68 %\n",
      "      - Reduction Compared to SDK    = 54.72 %\n",
      " CONV LAYER 2\n",
      "    Im2col = 5832\n",
      "    SDK    = 1458\n",
      "      - shape of PW = 4 x 4 x 64 x 64\n",
      "    VW-SDK = 1296\n",
      "      - Optimal shape of PW = 10 x 3 x 17 x 64\n",
      "      - Reduction Compared to Im2col = 77.78 %\n",
      "      - Reduction Compared to SDK    = 11.11 %\n",
      " CONV LAYER 3\n",
      "    Im2col = 1352\n",
      "    SDK    = 338\n",
      "      - shape of PW = 4 x 4 x 64 x 128\n",
      "    VW-SDK = 338\n",
      "      - Optimal shape of PW = 4 x 4 x 32 x 128\n",
      "      - Reduction Compared to Im2col = 75.00 %\n",
      "      - Reduction Compared to SDK    = 0.00 %\n",
      " CONV LAYER 4\n",
      "    Im2col = 2028\n",
      "    SDK    = 2028\n",
      "      - shape of PW = 3 x 3 x 128 x 128\n",
      "    VW-SDK = 676\n",
      "      - Optimal shape of PW = 4 x 4 x 32 x 128\n",
      "      - Reduction Compared to Im2col = 66.67 %\n",
      "      - Reduction Compared to SDK    = 66.67 %\n",
      " CONV LAYER 5\n",
      "    Im2col = 432\n",
      "    SDK    = 432\n",
      "      - shape of PW = 3 x 3 x 128 x 256\n",
      "    VW-SDK = 288\n",
      "      - Optimal shape of PW = 4 x 3 x 42 x 256\n",
      "      - Reduction Compared to Im2col = 33.33 %\n",
      "      - Reduction Compared to SDK    = 33.33 %\n",
      " CONV LAYER 6\n",
      "    Im2col = 720\n",
      "    SDK    = 720\n",
      "      - shape of PW = 3 x 3 x 256 x 256\n",
      "    VW-SDK = 504\n",
      "      - Optimal shape of PW = 4 x 3 x 42 x 256\n",
      "      - Reduction Compared to Im2col = 30.00 %\n",
      "      - Reduction Compared to SDK    = 30.00 %\n",
      " CONV LAYER 7\n",
      "    Im2col = 125\n",
      "    SDK    = 125\n",
      "      - shape of PW = 3 x 3 x 256 x 512\n",
      "    VW-SDK = 125\n",
      "      - Optimal shape of PW = 3 x 3 x 56 x 512\n",
      "      - Reduction Compared to Im2col = 0.00 %\n",
      "      - Reduction Compared to SDK    = 0.00 %\n",
      " CONV LAYER 8\n",
      "    Im2col = 225\n",
      "    SDK    = 225\n",
      "      - shape of PW = 3 x 3 x 512 x 512\n",
      "    VW-SDK = 250\n",
      "      - Optimal shape of PW = 3 x 3 x 56 x 512\n",
      "      - Reduction Compared to Im2col = -11.11 %\n",
      "      - Reduction Compared to SDK    = -11.11 %\n",
      "==================================================\n"
     ]
    }
   ],
   "source": [
    "network_information()\n",
    "result()"
   ]
  },
  {
   "cell_type": "code",
   "execution_count": null,
   "id": "mediterranean-preserve",
   "metadata": {},
   "outputs": [],
   "source": []
  }
 ],
 "metadata": {
  "kernelspec": {
   "display_name": "Python 3",
   "language": "python",
   "name": "python3"
  },
  "language_info": {
   "codemirror_mode": {
    "name": "ipython",
    "version": 3
   },
   "file_extension": ".py",
   "mimetype": "text/x-python",
   "name": "python",
   "nbconvert_exporter": "python",
   "pygments_lexer": "ipython3",
   "version": "3.8.3"
  }
 },
 "nbformat": 4,
 "nbformat_minor": 5
}
