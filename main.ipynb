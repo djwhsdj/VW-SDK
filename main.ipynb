{
 "cells": [
  {
   "cell_type": "markdown",
   "id": "lesser-solid",
   "metadata": {},
   "source": [
    "## Import module"
   ]
  },
  {
   "cell_type": "code",
   "execution_count": 1,
   "id": "worldwide-commodity",
   "metadata": {},
   "outputs": [
    {
     "name": "stdout",
     "output_type": "stream",
     "text": [
      "importing Jupyter notebook from utils.ipynb\n"
     ]
    }
   ],
   "source": [
    "import math\n",
    "import import_ipynb\n",
    "from utils import *"
   ]
  },
  {
   "cell_type": "markdown",
   "id": "through-springer",
   "metadata": {},
   "source": [
    "## Example of the network"
   ]
  },
  {
   "cell_type": "code",
   "execution_count": 2,
   "id": "taken-senegal",
   "metadata": {},
   "outputs": [
    {
     "data": {
      "text/plain": [
       "'\\n\"\"\"\\nVGG13\\n\"\"\"\\nVGG_image = [224, 224, 112, 112, 56, 56, 28, 28]\\nVGG_kernel = [3, 3, 3, 3, 3, 3, 3, 3, 3, 3]\\nVGG_channel = [3, 64, 64, 128, 128, 256, 256, 512, 512]\\n\\nimage = VGG_image\\nkernel = VGG_kernel\\nchannel = VGG_channel\\n'"
      ]
     },
     "execution_count": 2,
     "metadata": {},
     "output_type": "execute_result"
    }
   ],
   "source": [
    "'''\n",
    "\"\"\"\n",
    "VGG13\n",
    "\"\"\"\n",
    "VGG_image = [224, 224, 112, 112, 56, 56, 28, 28]\n",
    "VGG_kernel = [3, 3, 3, 3, 3, 3, 3, 3, 3, 3]\n",
    "VGG_channel = [3, 64, 64, 128, 128, 256, 256, 512, 512]\n",
    "n_layers = [1, 1, 1, 1, 1, 1, 1, 1]\n",
    "\n",
    "image = VGG_image\n",
    "kernel = VGG_kernel\n",
    "channel = VGG_channel\n",
    "'''"
   ]
  },
  {
   "cell_type": "code",
   "execution_count": 19,
   "id": "modular-favorite",
   "metadata": {},
   "outputs": [],
   "source": [
    "\n",
    "\"\"\"\n",
    "Resnet18\n",
    "\"\"\"\n",
    "Res_image = [112, 56, 28, 28, 14, 14, 7, 7]\n",
    "Res_kernel = [7, 3, 3, 3, 3, 3, 3, 3]\n",
    "Res_channel = [3, 64, 64, 128, 128, 256, 256, 512, 512]\n",
    "n_layers = [1, 4, 2, 2, 2, 2, 2, 2]\n",
    "\n",
    "image = Res_image\n",
    "kernel = Res_kernel\n",
    "channel = Res_channel\n"
   ]
  },
  {
   "cell_type": "markdown",
   "id": "under-onion",
   "metadata": {},
   "source": [
    "## Input the image size"
   ]
  },
  {
   "cell_type": "code",
   "execution_count": 5,
   "id": "visible-discretion",
   "metadata": {},
   "outputs": [],
   "source": [
    "# image = list(map(int, input().split()))"
   ]
  },
  {
   "cell_type": "markdown",
   "id": "incoming-absorption",
   "metadata": {},
   "source": [
    "## Input the kernel size"
   ]
  },
  {
   "cell_type": "code",
   "execution_count": 6,
   "id": "american-agriculture",
   "metadata": {},
   "outputs": [],
   "source": [
    "# kernel = list(map(int, input().split()))"
   ]
  },
  {
   "cell_type": "markdown",
   "id": "naked-massachusetts",
   "metadata": {},
   "source": [
    "## Input the channel ( have to include the channel of first layer 3 )"
   ]
  },
  {
   "cell_type": "code",
   "execution_count": 7,
   "id": "auburn-length",
   "metadata": {},
   "outputs": [],
   "source": [
    "# channel = list(map(int, input().split()))"
   ]
  },
  {
   "cell_type": "markdown",
   "id": "chemical-spending",
   "metadata": {},
   "source": [
    "## The number of convolutional layers"
   ]
  },
  {
   "cell_type": "code",
   "execution_count": null,
   "id": "south-freeware",
   "metadata": {},
   "outputs": [],
   "source": [
    "# n_layers = list(map(int, input().split()))"
   ]
  },
  {
   "cell_type": "markdown",
   "id": "leading-domain",
   "metadata": {},
   "source": [
    "## Input the array size"
   ]
  },
  {
   "cell_type": "code",
   "execution_count": 8,
   "id": "essential-microphone",
   "metadata": {},
   "outputs": [
    {
     "name": "stdin",
     "output_type": "stream",
     "text": [
      " 512 512\n"
     ]
    }
   ],
   "source": [
    "array = list(map(int, input().split()))\n",
    "# row ,col"
   ]
  },
  {
   "cell_type": "markdown",
   "id": "permanent-voltage",
   "metadata": {},
   "source": [
    "## Input the bit precision ( determines the number of utilized columns )"
   ]
  },
  {
   "cell_type": "code",
   "execution_count": 9,
   "id": "developmental-stanford",
   "metadata": {},
   "outputs": [
    {
     "name": "stdin",
     "output_type": "stream",
     "text": [
      " 1\n"
     ]
    }
   ],
   "source": [
    "bit_precision = int(input())"
   ]
  },
  {
   "cell_type": "markdown",
   "id": "wireless-convertible",
   "metadata": {},
   "source": [
    "## Functions for the information and results"
   ]
  },
  {
   "cell_type": "code",
   "execution_count": 17,
   "id": "based-outside",
   "metadata": {},
   "outputs": [],
   "source": [
    "def network_information() :\n",
    "    print(\"=\"*50)\n",
    "    print( \" Array Size = {} x {}\".format(array[0], array[1]))\n",
    "    print( \" Bit precision = {}\".format(bit_precision))\n",
    "    print( \" Actual Array Size = {} x {}\".format(array[0], int(array[1]/bit_precision)))\n",
    "    print(\"-\"*30)\n",
    "    \n",
    "    print(\" NETWORK INFORMATION \")\n",
    "    print(\"-\"*30)\n",
    "    for i in range(len(image)) :\n",
    "        print(\" CONV LAYER \"+ str(i+1))\n",
    "        print(\"    Image   Size = {} x {}\".format(image[i], image[i]))\n",
    "        print(\"    Kernel  Size = {} x {}\".format(kernel[i], kernel[i]))\n",
    "        print(\"    Channel Size = {} x {}\".format(channel[i], channel[i+1]))\n",
    "    print(\"=\"*50)\n",
    "    \n",
    "def result () :\n",
    "    CC_im2col = []\n",
    "    \n",
    "    CC = []\n",
    "    SDK_height = []\n",
    "    SDK_width = []\n",
    "    AR_cycle = []\n",
    "    AC_cycle = []\n",
    "    IC_tiled = []\n",
    "    OC_tiled = []\n",
    "    \n",
    "    CC_SDK = []\n",
    "    PW_SDK = []\n",
    "    \n",
    "    for i in range(len(image)) :\n",
    "        T_im2col = im2col(image[i], image[i], kernel[i], kernel[i], channel[i], channel[i+1], array[0], array[1], bit_precision)\n",
    "        CC_im2col.append(T_im2col)\n",
    "\n",
    "        T_SDK, w = SDK(image[i], image[i], kernel[i], kernel[i], channel[i], channel[i+1], array[0], array[1], bit_precision)\n",
    "        CC_SDK.append(T_SDK[0])\n",
    "        PW_SDK.append(w[0])\n",
    "\n",
    "        T_cycle, SDK_h, SDK_w, ARC, ACC, tiled_IC, tiled_OC = vw_sdk(image[i], image[i], kernel[i], kernel[i], channel[i], channel[i+1], array[0], array[1], bit_precision)\n",
    "        CC.append(T_cycle)\n",
    "        SDK_height.append(SDK_h)\n",
    "        SDK_width.append(SDK_w)\n",
    "        AR_cycle.append(ARC)\n",
    "        AC_cycle.append(ACC)\n",
    "        IC_tiled.append(tiled_IC)\n",
    "        OC_tiled.append(tiled_OC)\n",
    "    \n",
    "#     total_im2col = 0\n",
    "#     total_SDK = 0\n",
    "#     total_VWSDK = 0\n",
    "    \n",
    "    print(\"=\"*50)\n",
    "    print(\" RESULTS of COMPUTING CYCLES\")\n",
    "    print(\"-\"*30)\n",
    "    for i in range(len(image)) :\n",
    "        print(\" CONV LAYER \"+ str(i+1))\n",
    "        print(\"    Im2col = {}\".format(CC_im2col[i]))\n",
    "        print(\"    SDK    = {}\".format(CC_SDK[i]))\n",
    "        print(\"      - shape of PW = {} x {} x {} x {}\".format(int(math.sqrt(PW_SDK[i])), int(math.sqrt(PW_SDK[i])), channel[i], channel[i+1]))\n",
    "        print(\"    VW-SDK = {}\".format(CC[i]))\n",
    "        print(\"      - Optimal shape of PW = {} x {} x {} x {}\".format(kernel[i] + SDK_width[i]-1, kernel[i] + SDK_height[i]-1, IC_tiled[i], OC_tiled[i]))\n",
    "        print(\"      - Reduction Compared to Im2col = {:.2f} %\".format((CC_im2col[i]-CC[i])/CC_im2col[i]*100))\n",
    "        print(\"      - Reduction Compared to SDK    = {:.2f} %\".format((CC_SDK[i]-CC[i])/CC_SDK[i]*100))    \n",
    "    print(\"=\"*50)"
   ]
  },
  {
   "cell_type": "markdown",
   "id": "liberal-discovery",
   "metadata": {},
   "source": [
    "## Results"
   ]
  },
  {
   "cell_type": "code",
   "execution_count": 18,
   "id": "synthetic-collapse",
   "metadata": {},
   "outputs": [
    {
     "name": "stdout",
     "output_type": "stream",
     "text": [
      "==================================================\n",
      " Array Size = 512 x 512\n",
      " Bit precision = 1\n",
      " Actual Array Size = 512 x 512\n",
      "------------------------------\n",
      " NETWORK INFORMATION \n",
      "------------------------------\n",
      " CONV LAYER 1\n",
      "    Image   Size = 112 x 112\n",
      "    Kernel  Size = 7 x 7\n",
      "    Channel Size = 3 x 64\n",
      " CONV LAYER 2\n",
      "    Image   Size = 56 x 56\n",
      "    Kernel  Size = 3 x 3\n",
      "    Channel Size = 64 x 64\n",
      " CONV LAYER 3\n",
      "    Image   Size = 28 x 28\n",
      "    Kernel  Size = 3 x 3\n",
      "    Channel Size = 64 x 128\n",
      " CONV LAYER 4\n",
      "    Image   Size = 28 x 28\n",
      "    Kernel  Size = 3 x 3\n",
      "    Channel Size = 128 x 128\n",
      " CONV LAYER 5\n",
      "    Image   Size = 14 x 14\n",
      "    Kernel  Size = 3 x 3\n",
      "    Channel Size = 128 x 256\n",
      " CONV LAYER 6\n",
      "    Image   Size = 14 x 14\n",
      "    Kernel  Size = 3 x 3\n",
      "    Channel Size = 256 x 256\n",
      " CONV LAYER 7\n",
      "    Image   Size = 7 x 7\n",
      "    Kernel  Size = 3 x 3\n",
      "    Channel Size = 256 x 512\n",
      " CONV LAYER 8\n",
      "    Image   Size = 7 x 7\n",
      "    Kernel  Size = 3 x 3\n",
      "    Channel Size = 512 x 512\n",
      "==================================================\n",
      "==================================================\n",
      " RESULTS of COMPUTING CYCLES\n",
      "------------------------------\n",
      " CONV LAYER 1\n",
      "    Im2col = 11236\n",
      "    SDK    = 2809\n",
      "      - shape of PW = 8 x 8 x 3 x 64\n",
      "    VW-SDK = 1272\n",
      "      - Optimal shape of PW = 22 x 7 x 3 x 32\n",
      "      - Reduction Compared to Im2col = 88.68 %\n",
      "      - Reduction Compared to SDK    = 54.72 %\n",
      " CONV LAYER 2\n",
      "    Im2col = 5832\n",
      "    SDK    = 1458\n",
      "      - shape of PW = 4 x 4 x 64 x 64\n",
      "    VW-SDK = 1296\n",
      "      - Optimal shape of PW = 10 x 3 x 17 x 64\n",
      "      - Reduction Compared to Im2col = 77.78 %\n",
      "      - Reduction Compared to SDK    = 11.11 %\n",
      " CONV LAYER 3\n",
      "    Im2col = 1352\n",
      "    SDK    = 338\n",
      "      - shape of PW = 4 x 4 x 64 x 128\n",
      "    VW-SDK = 338\n",
      "      - Optimal shape of PW = 4 x 4 x 32 x 128\n",
      "      - Reduction Compared to Im2col = 75.00 %\n",
      "      - Reduction Compared to SDK    = 0.00 %\n",
      " CONV LAYER 4\n",
      "    Im2col = 2028\n",
      "    SDK    = 2028\n",
      "      - shape of PW = 3 x 3 x 128 x 128\n",
      "    VW-SDK = 676\n",
      "      - Optimal shape of PW = 4 x 4 x 32 x 128\n",
      "      - Reduction Compared to Im2col = 66.67 %\n",
      "      - Reduction Compared to SDK    = 66.67 %\n",
      " CONV LAYER 5\n",
      "    Im2col = 432\n",
      "    SDK    = 432\n",
      "      - shape of PW = 3 x 3 x 128 x 256\n",
      "    VW-SDK = 288\n",
      "      - Optimal shape of PW = 4 x 3 x 42 x 256\n",
      "      - Reduction Compared to Im2col = 33.33 %\n",
      "      - Reduction Compared to SDK    = 33.33 %\n",
      " CONV LAYER 6\n",
      "    Im2col = 720\n",
      "    SDK    = 720\n",
      "      - shape of PW = 3 x 3 x 256 x 256\n",
      "    VW-SDK = 504\n",
      "      - Optimal shape of PW = 4 x 3 x 42 x 256\n",
      "      - Reduction Compared to Im2col = 30.00 %\n",
      "      - Reduction Compared to SDK    = 30.00 %\n",
      " CONV LAYER 7\n",
      "    Im2col = 125\n",
      "    SDK    = 125\n",
      "      - shape of PW = 3 x 3 x 256 x 512\n",
      "    VW-SDK = 125\n",
      "      - Optimal shape of PW = 3 x 3 x 56 x 512\n",
      "      - Reduction Compared to Im2col = 0.00 %\n",
      "      - Reduction Compared to SDK    = 0.00 %\n",
      " CONV LAYER 8\n",
      "    Im2col = 225\n",
      "    SDK    = 225\n",
      "      - shape of PW = 3 x 3 x 512 x 512\n",
      "    VW-SDK = 250\n",
      "      - Optimal shape of PW = 3 x 3 x 56 x 512\n",
      "      - Reduction Compared to Im2col = -11.11 %\n",
      "      - Reduction Compared to SDK    = -11.11 %\n",
      "==================================================\n"
     ]
    }
   ],
   "source": [
    "network_information()\n",
    "result()"
   ]
  },
  {
   "cell_type": "code",
   "execution_count": null,
   "id": "ranging-jewel",
   "metadata": {},
   "outputs": [],
   "source": []
  }
 ],
 "metadata": {
  "kernelspec": {
   "display_name": "Python 3",
   "language": "python",
   "name": "python3"
  },
  "language_info": {
   "codemirror_mode": {
    "name": "ipython",
    "version": 3
   },
   "file_extension": ".py",
   "mimetype": "text/x-python",
   "name": "python",
   "nbconvert_exporter": "python",
   "pygments_lexer": "ipython3",
   "version": "3.8.3"
  }
 },
 "nbformat": 4,
 "nbformat_minor": 5
}
